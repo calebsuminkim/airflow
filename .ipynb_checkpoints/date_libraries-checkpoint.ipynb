{
 "cells": [
  {
   "cell_type": "markdown",
   "id": "fc167b50-7728-4e1f-97ec-6b5724a03e01",
   "metadata": {},
   "source": [
    "## Airflow의 macro변수를 더 잘 이해하기 위해 python의 날짜 관련 라이브러리(특히 datetime, dateutil)를 실습해보는 노트북"
   ]
  },
  {
   "cell_type": "code",
   "execution_count": 2,
   "id": "176e8a37-d580-4b8b-b4fa-14a3c4578ef4",
   "metadata": {},
   "outputs": [],
   "source": [
    "from datetime import datetime"
   ]
  },
  {
   "cell_type": "code",
   "execution_count": 3,
   "id": "f01b08d4-80e4-4cf1-81ea-5eb4b124ae5c",
   "metadata": {},
   "outputs": [],
   "source": [
    "from dateutil import relativedelta"
   ]
  },
  {
   "cell_type": "code",
   "execution_count": 4,
   "id": "43998b15-d435-4e93-a7f4-700b52830ef8",
   "metadata": {},
   "outputs": [],
   "source": [
    "now = datetime(year=2024, month=3, day=7)"
   ]
  },
  {
   "cell_type": "code",
   "execution_count": 5,
   "id": "17827779-0ffe-482c-831d-814c19afa585",
   "metadata": {},
   "outputs": [
    {
     "name": "stdout",
     "output_type": "stream",
     "text": [
      "현재 시간 : 2024-03-07 00:00:00\n"
     ]
    }
   ],
   "source": [
    "print('현재 시간 : ' + str(now))"
   ]
  },
  {
   "cell_type": "markdown",
   "id": "543bbf2a-27c4-468a-af0a-9c9f5c033668",
   "metadata": {},
   "source": [
    "## 월 연산"
   ]
  },
  {
   "cell_type": "markdown",
   "id": "a1c20e47-8224-425c-96ff-626ee6d94a6a",
   "metadata": {},
   "source": [
    "### 1월로 변경"
   ]
  },
  {
   "cell_type": "code",
   "execution_count": 7,
   "id": "c7d42899-9351-41f8-8e20-3c25842c86f6",
   "metadata": {},
   "outputs": [
    {
     "name": "stdout",
     "output_type": "stream",
     "text": [
      "2024-01-07 00:00:00\n"
     ]
    }
   ],
   "source": [
    "print(now + relativedelta.relativedelta(month=1))"
   ]
  },
  {
   "cell_type": "code",
   "execution_count": 9,
   "id": "ae10688d-e7b3-4fd0-b5a1-21a6b90fa29c",
   "metadata": {},
   "outputs": [
    {
     "name": "stdout",
     "output_type": "stream",
     "text": [
      "2024-01-07 00:00:00\n"
     ]
    }
   ],
   "source": [
    "print(now.replace(month=1))"
   ]
  },
  {
   "cell_type": "markdown",
   "id": "c4e1507a-5058-481c-8bfa-190a135da220",
   "metadata": {},
   "source": [
    "### 1개월 빼기"
   ]
  },
  {
   "cell_type": "code",
   "execution_count": 17,
   "id": "c782c803-03eb-4aa2-acc7-6bd9dcf86dc5",
   "metadata": {},
   "outputs": [
    {
     "name": "stdout",
     "output_type": "stream",
     "text": [
      "2024-02-07 00:00:00\n"
     ]
    }
   ],
   "source": [
    "print(now + relativedelta.relativedelta(months=-1)) # month's' 주의"
   ]
  },
  {
   "cell_type": "markdown",
   "id": "300c105a-fcb7-4bd6-a68b-67453530ffa4",
   "metadata": {},
   "source": [
    "## 일 연산"
   ]
  },
  {
   "cell_type": "markdown",
   "id": "0cd13b20-596e-458f-b8c2-a7ef90c68285",
   "metadata": {},
   "source": [
    "### 1일로 변경"
   ]
  },
  {
   "cell_type": "code",
   "execution_count": 13,
   "id": "69df0525-cdcb-435d-a9bd-dffa25478d50",
   "metadata": {},
   "outputs": [
    {
     "name": "stdout",
     "output_type": "stream",
     "text": [
      "2024-03-01 00:00:00\n"
     ]
    }
   ],
   "source": [
    "print(now + relativedelta.relativedelta(day=1))"
   ]
  },
  {
   "cell_type": "code",
   "execution_count": 14,
   "id": "5ad6e8e1-186e-4805-a646-0efdc328de3f",
   "metadata": {},
   "outputs": [
    {
     "name": "stdout",
     "output_type": "stream",
     "text": [
      "2024-03-01 00:00:00\n"
     ]
    }
   ],
   "source": [
    "print(now.replace(day=1))"
   ]
  },
  {
   "cell_type": "markdown",
   "id": "effdc2d0-228f-4c99-96f7-842403593a77",
   "metadata": {},
   "source": [
    "### 1일 빼기"
   ]
  },
  {
   "cell_type": "code",
   "execution_count": 18,
   "id": "4722b303-63e3-4a9c-a46b-079215d84fb7",
   "metadata": {},
   "outputs": [
    {
     "name": "stdout",
     "output_type": "stream",
     "text": [
      "2024-03-06 00:00:00\n"
     ]
    }
   ],
   "source": [
    "print(now + relativedelta.relativedelta(days=-1)) # day's' 주의"
   ]
  },
  {
   "cell_type": "markdown",
   "id": "2305d5d1-415f-4a0a-91d8-5e7b9b7bc63d",
   "metadata": {},
   "source": [
    "## 연산 여러개"
   ]
  },
  {
   "cell_type": "markdown",
   "id": "19e14e83-5cdc-4bad-b66a-449b33a5cb6c",
   "metadata": {},
   "source": [
    "### 1개월, 1일 빼기"
   ]
  },
  {
   "cell_type": "code",
   "execution_count": 19,
   "id": "761af23b-5410-4285-a651-453515977157",
   "metadata": {},
   "outputs": [
    {
     "name": "stdout",
     "output_type": "stream",
     "text": [
      "2024-02-06 00:00:00\n"
     ]
    }
   ],
   "source": [
    "print(now + relativedelta.relativedelta(months=-1) + relativedelta.relativedelta(days=-1)) # month's', day's'주의"
   ]
  },
  {
   "cell_type": "code",
   "execution_count": null,
   "id": "3086c026-48e2-4bff-ab50-5f2ebce60d51",
   "metadata": {},
   "outputs": [],
   "source": []
  }
 ],
 "metadata": {
  "kernelspec": {
   "display_name": "Python 3 (ipykernel)",
   "language": "python",
   "name": "python3"
  },
  "language_info": {
   "codemirror_mode": {
    "name": "ipython",
    "version": 3
   },
   "file_extension": ".py",
   "mimetype": "text/x-python",
   "name": "python",
   "nbconvert_exporter": "python",
   "pygments_lexer": "ipython3",
   "version": "3.11.8"
  }
 },
 "nbformat": 4,
 "nbformat_minor": 5
}
